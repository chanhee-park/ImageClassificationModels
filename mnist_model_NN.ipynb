{
 "cells": [
  {
   "cell_type": "markdown",
   "metadata": {},
   "source": [
    "## 뉴럴네트워크 / MNIST"
   ]
  },
  {
   "cell_type": "markdown",
   "metadata": {},
   "source": [
    "### 사용 패키지"
   ]
  },
  {
   "cell_type": "code",
   "execution_count": 31,
   "metadata": {},
   "outputs": [],
   "source": [
    "import random\n",
    "import time\n",
    "\n",
    "import numpy as np\n",
    "\n",
    "from keras.utils import np_utils\n",
    "from keras.datasets import mnist\n",
    "from keras.models import Sequential\n",
    "from keras.layers import Dense, Activation\n",
    "from keras.utils import to_categorical\n",
    "\n",
    "import json"
   ]
  },
  {
   "cell_type": "code",
   "execution_count": 32,
   "metadata": {},
   "outputs": [],
   "source": [
    "# Constants & Functions\n",
    "model_name = 'mnist_nn_10-layers'\n",
    "\n",
    "def get_hot_idx(arr):\n",
    "    return arr.index(max(arr))\n",
    "\n",
    "def save_to_json_file(data, filename):\n",
    "    with open(filename, 'w') as outfile:\n",
    "        json.dump(data, outfile)\n",
    "    print(filename + ' 저장완료')\n",
    "    \n",
    "def get_round_array(array, decimal):\n",
    "    return [round(e, decimal) for e in array]\n",
    "\n",
    "current_milli_time = lambda: int(round(time.time() * 1000))"
   ]
  },
  {
   "cell_type": "markdown",
   "metadata": {},
   "source": [
    "### 데이터"
   ]
  },
  {
   "cell_type": "code",
   "execution_count": 41,
   "metadata": {},
   "outputs": [],
   "source": [
    "# 데이터 관련 파라메터 정의\n",
    "image_width = 28\n",
    "image_height = 28\n",
    "num_of_feature = image_width * image_height\n",
    "\n",
    "num_of_class = 10\n",
    "num_of_trainset = 60000\n",
    "num_of_testset = 10000\n",
    "\n",
    "(X_train, Y_train), (X_test, Y_test) = mnist.load_data()\n",
    "X_train = X_train.reshape(num_of_trainset, num_of_feature).astype('float32') / 255.0\n",
    "X_test = X_test.reshape(num_of_testset, num_of_feature).astype('float32') / 255.0\n",
    "Y_train = np_utils.to_categorical(Y_train)\n",
    "Y_test = np_utils.to_categorical(Y_test)"
   ]
  },
  {
   "cell_type": "markdown",
   "metadata": {},
   "source": [
    "### 모델구축"
   ]
  },
  {
   "cell_type": "code",
   "execution_count": 76,
   "metadata": {},
   "outputs": [],
   "source": [
    "# 모델 구축 \n",
    "model = Sequential()\n",
    "model.add(Dense(units=128, input_dim=28*28, activation='relu'))\n",
    "model.add(Dense(units=64, activation='relu'))\n",
    "model.add(Dense(units=32, activation='relu'))\n",
    "model.add(Dense(units=16, activation='relu'))\n",
    "model.add(Dense(units=10, activation='relu'))\n",
    "model.add(Dense(units=10, activation='relu'))\n",
    "model.add(Dense(units=10, activation='relu'))\n",
    "model.add(Dense(units=10, activation='relu'))\n",
    "model.add(Dense(units=10, activation='relu'))\n",
    "model.add(Dense(units=10, activation='softmax'))\n",
    "model.compile(loss='categorical_crossentropy', optimizer='sgd', metrics=['accuracy'])"
   ]
  },
  {
   "cell_type": "code",
   "execution_count": 77,
   "metadata": {},
   "outputs": [
    {
     "data": {
      "image/svg+xml": [
       "<svg height=\"855pt\" viewBox=\"0.00 0.00 258.57 855.00\" width=\"259pt\" xmlns=\"http://www.w3.org/2000/svg\" xmlns:xlink=\"http://www.w3.org/1999/xlink\">\n",
       "<g class=\"graph\" id=\"graph0\" transform=\"scale(1 1) rotate(0) translate(4 851)\">\n",
       "<title>G</title>\n",
       "<polygon fill=\"#ffffff\" points=\"-4,4 -4,-851 254.5693,-851 254.5693,4 -4,4\" stroke=\"transparent\"/>\n",
       "<!-- 4953849640 -->\n",
       "<g class=\"node\" id=\"node1\">\n",
       "<title>4953849640</title>\n",
       "<polygon fill=\"none\" points=\"0,-729.5 0,-773.5 250.5693,-773.5 250.5693,-729.5 0,-729.5\" stroke=\"#000000\"/>\n",
       "<text fill=\"#000000\" font-family=\"Times,serif\" font-size=\"14.00\" text-anchor=\"middle\" x=\"55.626\" y=\"-747.3\">dense_95: Dense</text>\n",
       "<polyline fill=\"none\" points=\"111.252,-729.5 111.252,-773.5 \" stroke=\"#000000\"/>\n",
       "<text fill=\"#000000\" font-family=\"Times,serif\" font-size=\"14.00\" text-anchor=\"middle\" x=\"139.0864\" y=\"-758.3\">input:</text>\n",
       "<polyline fill=\"none\" points=\"111.252,-751.5 166.9209,-751.5 \" stroke=\"#000000\"/>\n",
       "<text fill=\"#000000\" font-family=\"Times,serif\" font-size=\"14.00\" text-anchor=\"middle\" x=\"139.0864\" y=\"-736.3\">output:</text>\n",
       "<polyline fill=\"none\" points=\"166.9209,-729.5 166.9209,-773.5 \" stroke=\"#000000\"/>\n",
       "<text fill=\"#000000\" font-family=\"Times,serif\" font-size=\"14.00\" text-anchor=\"middle\" x=\"208.7451\" y=\"-758.3\">(None, 784)</text>\n",
       "<polyline fill=\"none\" points=\"166.9209,-751.5 250.5693,-751.5 \" stroke=\"#000000\"/>\n",
       "<text fill=\"#000000\" font-family=\"Times,serif\" font-size=\"14.00\" text-anchor=\"middle\" x=\"208.7451\" y=\"-736.3\">(None, 128)</text>\n",
       "</g>\n",
       "<!-- 4953849696 -->\n",
       "<g class=\"node\" id=\"node2\">\n",
       "<title>4953849696</title>\n",
       "<polygon fill=\"none\" points=\"0,-648.5 0,-692.5 250.5693,-692.5 250.5693,-648.5 0,-648.5\" stroke=\"#000000\"/>\n",
       "<text fill=\"#000000\" font-family=\"Times,serif\" font-size=\"14.00\" text-anchor=\"middle\" x=\"55.626\" y=\"-666.3\">dense_96: Dense</text>\n",
       "<polyline fill=\"none\" points=\"111.252,-648.5 111.252,-692.5 \" stroke=\"#000000\"/>\n",
       "<text fill=\"#000000\" font-family=\"Times,serif\" font-size=\"14.00\" text-anchor=\"middle\" x=\"139.0864\" y=\"-677.3\">input:</text>\n",
       "<polyline fill=\"none\" points=\"111.252,-670.5 166.9209,-670.5 \" stroke=\"#000000\"/>\n",
       "<text fill=\"#000000\" font-family=\"Times,serif\" font-size=\"14.00\" text-anchor=\"middle\" x=\"139.0864\" y=\"-655.3\">output:</text>\n",
       "<polyline fill=\"none\" points=\"166.9209,-648.5 166.9209,-692.5 \" stroke=\"#000000\"/>\n",
       "<text fill=\"#000000\" font-family=\"Times,serif\" font-size=\"14.00\" text-anchor=\"middle\" x=\"208.7451\" y=\"-677.3\">(None, 128)</text>\n",
       "<polyline fill=\"none\" points=\"166.9209,-670.5 250.5693,-670.5 \" stroke=\"#000000\"/>\n",
       "<text fill=\"#000000\" font-family=\"Times,serif\" font-size=\"14.00\" text-anchor=\"middle\" x=\"208.7451\" y=\"-655.3\">(None, 64)</text>\n",
       "</g>\n",
       "<!-- 4953849640&#45;&gt;4953849696 -->\n",
       "<g class=\"edge\" id=\"edge2\">\n",
       "<title>4953849640-&gt;4953849696</title>\n",
       "<path d=\"M125.2847,-729.3664C125.2847,-721.1516 125.2847,-711.6579 125.2847,-702.7252\" fill=\"none\" stroke=\"#000000\"/>\n",
       "<polygon fill=\"#000000\" points=\"128.7848,-702.6068 125.2847,-692.6068 121.7848,-702.6069 128.7848,-702.6068\" stroke=\"#000000\"/>\n",
       "</g>\n",
       "<!-- 4956538864 -->\n",
       "<g class=\"node\" id=\"node3\">\n",
       "<title>4956538864</title>\n",
       "<polygon fill=\"none\" points=\"3.5,-567.5 3.5,-611.5 247.0693,-611.5 247.0693,-567.5 3.5,-567.5\" stroke=\"#000000\"/>\n",
       "<text fill=\"#000000\" font-family=\"Times,serif\" font-size=\"14.00\" text-anchor=\"middle\" x=\"59.126\" y=\"-585.3\">dense_97: Dense</text>\n",
       "<polyline fill=\"none\" points=\"114.752,-567.5 114.752,-611.5 \" stroke=\"#000000\"/>\n",
       "<text fill=\"#000000\" font-family=\"Times,serif\" font-size=\"14.00\" text-anchor=\"middle\" x=\"142.5864\" y=\"-596.3\">input:</text>\n",
       "<polyline fill=\"none\" points=\"114.752,-589.5 170.4209,-589.5 \" stroke=\"#000000\"/>\n",
       "<text fill=\"#000000\" font-family=\"Times,serif\" font-size=\"14.00\" text-anchor=\"middle\" x=\"142.5864\" y=\"-574.3\">output:</text>\n",
       "<polyline fill=\"none\" points=\"170.4209,-567.5 170.4209,-611.5 \" stroke=\"#000000\"/>\n",
       "<text fill=\"#000000\" font-family=\"Times,serif\" font-size=\"14.00\" text-anchor=\"middle\" x=\"208.7451\" y=\"-596.3\">(None, 64)</text>\n",
       "<polyline fill=\"none\" points=\"170.4209,-589.5 247.0693,-589.5 \" stroke=\"#000000\"/>\n",
       "<text fill=\"#000000\" font-family=\"Times,serif\" font-size=\"14.00\" text-anchor=\"middle\" x=\"208.7451\" y=\"-574.3\">(None, 32)</text>\n",
       "</g>\n",
       "<!-- 4953849696&#45;&gt;4956538864 -->\n",
       "<g class=\"edge\" id=\"edge3\">\n",
       "<title>4953849696-&gt;4956538864</title>\n",
       "<path d=\"M125.2847,-648.3664C125.2847,-640.1516 125.2847,-630.6579 125.2847,-621.7252\" fill=\"none\" stroke=\"#000000\"/>\n",
       "<polygon fill=\"#000000\" points=\"128.7848,-621.6068 125.2847,-611.6068 121.7848,-621.6069 128.7848,-621.6068\" stroke=\"#000000\"/>\n",
       "</g>\n",
       "<!-- 4956625104 -->\n",
       "<g class=\"node\" id=\"node4\">\n",
       "<title>4956625104</title>\n",
       "<polygon fill=\"none\" points=\"3.5,-486.5 3.5,-530.5 247.0693,-530.5 247.0693,-486.5 3.5,-486.5\" stroke=\"#000000\"/>\n",
       "<text fill=\"#000000\" font-family=\"Times,serif\" font-size=\"14.00\" text-anchor=\"middle\" x=\"59.126\" y=\"-504.3\">dense_98: Dense</text>\n",
       "<polyline fill=\"none\" points=\"114.752,-486.5 114.752,-530.5 \" stroke=\"#000000\"/>\n",
       "<text fill=\"#000000\" font-family=\"Times,serif\" font-size=\"14.00\" text-anchor=\"middle\" x=\"142.5864\" y=\"-515.3\">input:</text>\n",
       "<polyline fill=\"none\" points=\"114.752,-508.5 170.4209,-508.5 \" stroke=\"#000000\"/>\n",
       "<text fill=\"#000000\" font-family=\"Times,serif\" font-size=\"14.00\" text-anchor=\"middle\" x=\"142.5864\" y=\"-493.3\">output:</text>\n",
       "<polyline fill=\"none\" points=\"170.4209,-486.5 170.4209,-530.5 \" stroke=\"#000000\"/>\n",
       "<text fill=\"#000000\" font-family=\"Times,serif\" font-size=\"14.00\" text-anchor=\"middle\" x=\"208.7451\" y=\"-515.3\">(None, 32)</text>\n",
       "<polyline fill=\"none\" points=\"170.4209,-508.5 247.0693,-508.5 \" stroke=\"#000000\"/>\n",
       "<text fill=\"#000000\" font-family=\"Times,serif\" font-size=\"14.00\" text-anchor=\"middle\" x=\"208.7451\" y=\"-493.3\">(None, 16)</text>\n",
       "</g>\n",
       "<!-- 4956538864&#45;&gt;4956625104 -->\n",
       "<g class=\"edge\" id=\"edge4\">\n",
       "<title>4956538864-&gt;4956625104</title>\n",
       "<path d=\"M125.2847,-567.3664C125.2847,-559.1516 125.2847,-549.6579 125.2847,-540.7252\" fill=\"none\" stroke=\"#000000\"/>\n",
       "<polygon fill=\"#000000\" points=\"128.7848,-540.6068 125.2847,-530.6068 121.7848,-540.6069 128.7848,-540.6068\" stroke=\"#000000\"/>\n",
       "</g>\n",
       "<!-- 4953861200 -->\n",
       "<g class=\"node\" id=\"node5\">\n",
       "<title>4953861200</title>\n",
       "<polygon fill=\"none\" points=\"3.5,-405.5 3.5,-449.5 247.0693,-449.5 247.0693,-405.5 3.5,-405.5\" stroke=\"#000000\"/>\n",
       "<text fill=\"#000000\" font-family=\"Times,serif\" font-size=\"14.00\" text-anchor=\"middle\" x=\"59.126\" y=\"-423.3\">dense_99: Dense</text>\n",
       "<polyline fill=\"none\" points=\"114.752,-405.5 114.752,-449.5 \" stroke=\"#000000\"/>\n",
       "<text fill=\"#000000\" font-family=\"Times,serif\" font-size=\"14.00\" text-anchor=\"middle\" x=\"142.5864\" y=\"-434.3\">input:</text>\n",
       "<polyline fill=\"none\" points=\"114.752,-427.5 170.4209,-427.5 \" stroke=\"#000000\"/>\n",
       "<text fill=\"#000000\" font-family=\"Times,serif\" font-size=\"14.00\" text-anchor=\"middle\" x=\"142.5864\" y=\"-412.3\">output:</text>\n",
       "<polyline fill=\"none\" points=\"170.4209,-405.5 170.4209,-449.5 \" stroke=\"#000000\"/>\n",
       "<text fill=\"#000000\" font-family=\"Times,serif\" font-size=\"14.00\" text-anchor=\"middle\" x=\"208.7451\" y=\"-434.3\">(None, 16)</text>\n",
       "<polyline fill=\"none\" points=\"170.4209,-427.5 247.0693,-427.5 \" stroke=\"#000000\"/>\n",
       "<text fill=\"#000000\" font-family=\"Times,serif\" font-size=\"14.00\" text-anchor=\"middle\" x=\"208.7451\" y=\"-412.3\">(None, 10)</text>\n",
       "</g>\n",
       "<!-- 4956625104&#45;&gt;4953861200 -->\n",
       "<g class=\"edge\" id=\"edge5\">\n",
       "<title>4956625104-&gt;4953861200</title>\n",
       "<path d=\"M125.2847,-486.3664C125.2847,-478.1516 125.2847,-468.6579 125.2847,-459.7252\" fill=\"none\" stroke=\"#000000\"/>\n",
       "<polygon fill=\"#000000\" points=\"128.7848,-459.6068 125.2847,-449.6068 121.7848,-459.6069 128.7848,-459.6068\" stroke=\"#000000\"/>\n",
       "</g>\n",
       "<!-- 5274020048 -->\n",
       "<g class=\"node\" id=\"node6\">\n",
       "<title>5274020048</title>\n",
       "<polygon fill=\"none\" points=\"0,-324.5 0,-368.5 250.5693,-368.5 250.5693,-324.5 0,-324.5\" stroke=\"#000000\"/>\n",
       "<text fill=\"#000000\" font-family=\"Times,serif\" font-size=\"14.00\" text-anchor=\"middle\" x=\"59.126\" y=\"-342.3\">dense_100: Dense</text>\n",
       "<polyline fill=\"none\" points=\"118.252,-324.5 118.252,-368.5 \" stroke=\"#000000\"/>\n",
       "<text fill=\"#000000\" font-family=\"Times,serif\" font-size=\"14.00\" text-anchor=\"middle\" x=\"146.0864\" y=\"-353.3\">input:</text>\n",
       "<polyline fill=\"none\" points=\"118.252,-346.5 173.9209,-346.5 \" stroke=\"#000000\"/>\n",
       "<text fill=\"#000000\" font-family=\"Times,serif\" font-size=\"14.00\" text-anchor=\"middle\" x=\"146.0864\" y=\"-331.3\">output:</text>\n",
       "<polyline fill=\"none\" points=\"173.9209,-324.5 173.9209,-368.5 \" stroke=\"#000000\"/>\n",
       "<text fill=\"#000000\" font-family=\"Times,serif\" font-size=\"14.00\" text-anchor=\"middle\" x=\"212.2451\" y=\"-353.3\">(None, 10)</text>\n",
       "<polyline fill=\"none\" points=\"173.9209,-346.5 250.5693,-346.5 \" stroke=\"#000000\"/>\n",
       "<text fill=\"#000000\" font-family=\"Times,serif\" font-size=\"14.00\" text-anchor=\"middle\" x=\"212.2451\" y=\"-331.3\">(None, 10)</text>\n",
       "</g>\n",
       "<!-- 4953861200&#45;&gt;5274020048 -->\n",
       "<g class=\"edge\" id=\"edge6\">\n",
       "<title>4953861200-&gt;5274020048</title>\n",
       "<path d=\"M125.2847,-405.3664C125.2847,-397.1516 125.2847,-387.6579 125.2847,-378.7252\" fill=\"none\" stroke=\"#000000\"/>\n",
       "<polygon fill=\"#000000\" points=\"128.7848,-378.6068 125.2847,-368.6068 121.7848,-378.6069 128.7848,-378.6068\" stroke=\"#000000\"/>\n",
       "</g>\n",
       "<!-- 5274009160 -->\n",
       "<g class=\"node\" id=\"node7\">\n",
       "<title>5274009160</title>\n",
       "<polygon fill=\"none\" points=\"0,-243.5 0,-287.5 250.5693,-287.5 250.5693,-243.5 0,-243.5\" stroke=\"#000000\"/>\n",
       "<text fill=\"#000000\" font-family=\"Times,serif\" font-size=\"14.00\" text-anchor=\"middle\" x=\"59.126\" y=\"-261.3\">dense_101: Dense</text>\n",
       "<polyline fill=\"none\" points=\"118.252,-243.5 118.252,-287.5 \" stroke=\"#000000\"/>\n",
       "<text fill=\"#000000\" font-family=\"Times,serif\" font-size=\"14.00\" text-anchor=\"middle\" x=\"146.0864\" y=\"-272.3\">input:</text>\n",
       "<polyline fill=\"none\" points=\"118.252,-265.5 173.9209,-265.5 \" stroke=\"#000000\"/>\n",
       "<text fill=\"#000000\" font-family=\"Times,serif\" font-size=\"14.00\" text-anchor=\"middle\" x=\"146.0864\" y=\"-250.3\">output:</text>\n",
       "<polyline fill=\"none\" points=\"173.9209,-243.5 173.9209,-287.5 \" stroke=\"#000000\"/>\n",
       "<text fill=\"#000000\" font-family=\"Times,serif\" font-size=\"14.00\" text-anchor=\"middle\" x=\"212.2451\" y=\"-272.3\">(None, 10)</text>\n",
       "<polyline fill=\"none\" points=\"173.9209,-265.5 250.5693,-265.5 \" stroke=\"#000000\"/>\n",
       "<text fill=\"#000000\" font-family=\"Times,serif\" font-size=\"14.00\" text-anchor=\"middle\" x=\"212.2451\" y=\"-250.3\">(None, 10)</text>\n",
       "</g>\n",
       "<!-- 5274020048&#45;&gt;5274009160 -->\n",
       "<g class=\"edge\" id=\"edge7\">\n",
       "<title>5274020048-&gt;5274009160</title>\n",
       "<path d=\"M125.2847,-324.3664C125.2847,-316.1516 125.2847,-306.6579 125.2847,-297.7252\" fill=\"none\" stroke=\"#000000\"/>\n",
       "<polygon fill=\"#000000\" points=\"128.7848,-297.6068 125.2847,-287.6068 121.7848,-297.6069 128.7848,-297.6068\" stroke=\"#000000\"/>\n",
       "</g>\n",
       "<!-- 5274069592 -->\n",
       "<g class=\"node\" id=\"node8\">\n",
       "<title>5274069592</title>\n",
       "<polygon fill=\"none\" points=\"0,-162.5 0,-206.5 250.5693,-206.5 250.5693,-162.5 0,-162.5\" stroke=\"#000000\"/>\n",
       "<text fill=\"#000000\" font-family=\"Times,serif\" font-size=\"14.00\" text-anchor=\"middle\" x=\"59.126\" y=\"-180.3\">dense_102: Dense</text>\n",
       "<polyline fill=\"none\" points=\"118.252,-162.5 118.252,-206.5 \" stroke=\"#000000\"/>\n",
       "<text fill=\"#000000\" font-family=\"Times,serif\" font-size=\"14.00\" text-anchor=\"middle\" x=\"146.0864\" y=\"-191.3\">input:</text>\n",
       "<polyline fill=\"none\" points=\"118.252,-184.5 173.9209,-184.5 \" stroke=\"#000000\"/>\n",
       "<text fill=\"#000000\" font-family=\"Times,serif\" font-size=\"14.00\" text-anchor=\"middle\" x=\"146.0864\" y=\"-169.3\">output:</text>\n",
       "<polyline fill=\"none\" points=\"173.9209,-162.5 173.9209,-206.5 \" stroke=\"#000000\"/>\n",
       "<text fill=\"#000000\" font-family=\"Times,serif\" font-size=\"14.00\" text-anchor=\"middle\" x=\"212.2451\" y=\"-191.3\">(None, 10)</text>\n",
       "<polyline fill=\"none\" points=\"173.9209,-184.5 250.5693,-184.5 \" stroke=\"#000000\"/>\n",
       "<text fill=\"#000000\" font-family=\"Times,serif\" font-size=\"14.00\" text-anchor=\"middle\" x=\"212.2451\" y=\"-169.3\">(None, 10)</text>\n",
       "</g>\n",
       "<!-- 5274009160&#45;&gt;5274069592 -->\n",
       "<g class=\"edge\" id=\"edge8\">\n",
       "<title>5274009160-&gt;5274069592</title>\n",
       "<path d=\"M125.2847,-243.3664C125.2847,-235.1516 125.2847,-225.6579 125.2847,-216.7252\" fill=\"none\" stroke=\"#000000\"/>\n",
       "<polygon fill=\"#000000\" points=\"128.7848,-216.6068 125.2847,-206.6068 121.7848,-216.6069 128.7848,-216.6068\" stroke=\"#000000\"/>\n",
       "</g>\n",
       "<!-- 5274408776 -->\n",
       "<g class=\"node\" id=\"node9\">\n",
       "<title>5274408776</title>\n",
       "<polygon fill=\"none\" points=\"0,-81.5 0,-125.5 250.5693,-125.5 250.5693,-81.5 0,-81.5\" stroke=\"#000000\"/>\n",
       "<text fill=\"#000000\" font-family=\"Times,serif\" font-size=\"14.00\" text-anchor=\"middle\" x=\"59.126\" y=\"-99.3\">dense_103: Dense</text>\n",
       "<polyline fill=\"none\" points=\"118.252,-81.5 118.252,-125.5 \" stroke=\"#000000\"/>\n",
       "<text fill=\"#000000\" font-family=\"Times,serif\" font-size=\"14.00\" text-anchor=\"middle\" x=\"146.0864\" y=\"-110.3\">input:</text>\n",
       "<polyline fill=\"none\" points=\"118.252,-103.5 173.9209,-103.5 \" stroke=\"#000000\"/>\n",
       "<text fill=\"#000000\" font-family=\"Times,serif\" font-size=\"14.00\" text-anchor=\"middle\" x=\"146.0864\" y=\"-88.3\">output:</text>\n",
       "<polyline fill=\"none\" points=\"173.9209,-81.5 173.9209,-125.5 \" stroke=\"#000000\"/>\n",
       "<text fill=\"#000000\" font-family=\"Times,serif\" font-size=\"14.00\" text-anchor=\"middle\" x=\"212.2451\" y=\"-110.3\">(None, 10)</text>\n",
       "<polyline fill=\"none\" points=\"173.9209,-103.5 250.5693,-103.5 \" stroke=\"#000000\"/>\n",
       "<text fill=\"#000000\" font-family=\"Times,serif\" font-size=\"14.00\" text-anchor=\"middle\" x=\"212.2451\" y=\"-88.3\">(None, 10)</text>\n",
       "</g>\n",
       "<!-- 5274069592&#45;&gt;5274408776 -->\n",
       "<g class=\"edge\" id=\"edge9\">\n",
       "<title>5274069592-&gt;5274408776</title>\n",
       "<path d=\"M125.2847,-162.3664C125.2847,-154.1516 125.2847,-144.6579 125.2847,-135.7252\" fill=\"none\" stroke=\"#000000\"/>\n",
       "<polygon fill=\"#000000\" points=\"128.7848,-135.6068 125.2847,-125.6068 121.7848,-135.6069 128.7848,-135.6068\" stroke=\"#000000\"/>\n",
       "</g>\n",
       "<!-- 5539530008 -->\n",
       "<g class=\"node\" id=\"node10\">\n",
       "<title>5539530008</title>\n",
       "<polygon fill=\"none\" points=\"0,-.5 0,-44.5 250.5693,-44.5 250.5693,-.5 0,-.5\" stroke=\"#000000\"/>\n",
       "<text fill=\"#000000\" font-family=\"Times,serif\" font-size=\"14.00\" text-anchor=\"middle\" x=\"59.126\" y=\"-18.3\">dense_104: Dense</text>\n",
       "<polyline fill=\"none\" points=\"118.252,-.5 118.252,-44.5 \" stroke=\"#000000\"/>\n",
       "<text fill=\"#000000\" font-family=\"Times,serif\" font-size=\"14.00\" text-anchor=\"middle\" x=\"146.0864\" y=\"-29.3\">input:</text>\n",
       "<polyline fill=\"none\" points=\"118.252,-22.5 173.9209,-22.5 \" stroke=\"#000000\"/>\n",
       "<text fill=\"#000000\" font-family=\"Times,serif\" font-size=\"14.00\" text-anchor=\"middle\" x=\"146.0864\" y=\"-7.3\">output:</text>\n",
       "<polyline fill=\"none\" points=\"173.9209,-.5 173.9209,-44.5 \" stroke=\"#000000\"/>\n",
       "<text fill=\"#000000\" font-family=\"Times,serif\" font-size=\"14.00\" text-anchor=\"middle\" x=\"212.2451\" y=\"-29.3\">(None, 10)</text>\n",
       "<polyline fill=\"none\" points=\"173.9209,-22.5 250.5693,-22.5 \" stroke=\"#000000\"/>\n",
       "<text fill=\"#000000\" font-family=\"Times,serif\" font-size=\"14.00\" text-anchor=\"middle\" x=\"212.2451\" y=\"-7.3\">(None, 10)</text>\n",
       "</g>\n",
       "<!-- 5274408776&#45;&gt;5539530008 -->\n",
       "<g class=\"edge\" id=\"edge10\">\n",
       "<title>5274408776-&gt;5539530008</title>\n",
       "<path d=\"M125.2847,-81.3664C125.2847,-73.1516 125.2847,-63.6579 125.2847,-54.7252\" fill=\"none\" stroke=\"#000000\"/>\n",
       "<polygon fill=\"#000000\" points=\"128.7848,-54.6068 125.2847,-44.6068 121.7848,-54.6069 128.7848,-54.6068\" stroke=\"#000000\"/>\n",
       "</g>\n",
       "<!-- 4956444208 -->\n",
       "<g class=\"node\" id=\"node11\">\n",
       "<title>4956444208</title>\n",
       "<polygon fill=\"none\" points=\"82.2847,-810.5 82.2847,-846.5 168.2847,-846.5 168.2847,-810.5 82.2847,-810.5\" stroke=\"#000000\"/>\n",
       "<text fill=\"#000000\" font-family=\"Times,serif\" font-size=\"14.00\" text-anchor=\"middle\" x=\"125.2847\" y=\"-824.3\">4956444208</text>\n",
       "</g>\n",
       "<!-- 4956444208&#45;&gt;4953849640 -->\n",
       "<g class=\"edge\" id=\"edge1\">\n",
       "<title>4956444208-&gt;4953849640</title>\n",
       "<path d=\"M125.2847,-810.2521C125.2847,-802.3888 125.2847,-792.9498 125.2847,-783.9612\" fill=\"none\" stroke=\"#000000\"/>\n",
       "<polygon fill=\"#000000\" points=\"128.7848,-783.7376 125.2847,-773.7377 121.7848,-783.7377 128.7848,-783.7376\" stroke=\"#000000\"/>\n",
       "</g>\n",
       "</g>\n",
       "</svg>"
      ],
      "text/plain": [
       "<IPython.core.display.SVG object>"
      ]
     },
     "execution_count": 77,
     "metadata": {},
     "output_type": "execute_result"
    }
   ],
   "source": [
    "# 구축된 모델 구조 시각화 \n",
    "from IPython.display import SVG\n",
    "from keras.utils.vis_utils import model_to_dot\n",
    "\n",
    "%matplotlib inline\n",
    "SVG(model_to_dot(model, show_shapes=True).create(prog='dot', format='svg'))"
   ]
  },
  {
   "cell_type": "markdown",
   "metadata": {},
   "source": [
    "### 모델 학습"
   ]
  },
  {
   "cell_type": "code",
   "execution_count": 78,
   "metadata": {},
   "outputs": [
    {
     "name": "stdout",
     "output_type": "stream",
     "text": [
      "Epoch 1/5\n",
      "60000/60000 [==============================] - 7s 111us/step - loss: 1.9379 - acc: 0.2834\n",
      "Epoch 2/5\n",
      "60000/60000 [==============================] - 6s 98us/step - loss: 0.7566 - acc: 0.7644\n",
      "Epoch 3/5\n",
      "60000/60000 [==============================] - 8s 126us/step - loss: 0.4078 - acc: 0.8872\n",
      "Epoch 4/5\n",
      "60000/60000 [==============================] - 7s 124us/step - loss: 0.3268 - acc: 0.9080 \n",
      "Epoch 5/5\n",
      "60000/60000 [==============================] - 8s 140us/step - loss: 0.3587 - acc: 0.8992\n"
     ]
    },
    {
     "data": {
      "text/plain": [
       "<keras.callbacks.History at 0x1291b1a90>"
      ]
     },
     "execution_count": 78,
     "metadata": {},
     "output_type": "execute_result"
    }
   ],
   "source": [
    "# 모델 피팅\n",
    "model.fit(X_train, Y_train, epochs=5, batch_size=32)"
   ]
  },
  {
   "cell_type": "markdown",
   "metadata": {},
   "source": [
    "### 성능 확인"
   ]
  },
  {
   "cell_type": "code",
   "execution_count": 79,
   "metadata": {},
   "outputs": [
    {
     "name": "stdout",
     "output_type": "stream",
     "text": [
      "10000/10000 [==============================] - 1s 96us/step\n",
      "loss_and_metrics : [0.2903017537117004, 0.9197]\n"
     ]
    }
   ],
   "source": [
    "loss_and_metrics = model.evaluate(X_test, Y_test, batch_size=32)\n",
    "\n",
    "print('loss_and_metrics : ' + str(loss_and_metrics))"
   ]
  },
  {
   "cell_type": "markdown",
   "metadata": {},
   "source": [
    "### 내 데이터로 테스트"
   ]
  },
  {
   "cell_type": "code",
   "execution_count": 80,
   "metadata": {},
   "outputs": [
    {
     "name": "stdout",
     "output_type": "stream",
     "text": [
      "내 데이터 로드\n"
     ]
    }
   ],
   "source": [
    "# 이미지 데이터 로드 (pixel 값 배열)\n",
    "print(\"내 데이터 로드\")\n",
    "with open('./data/mnist_testing/images_not_normal.json') as data_file:\n",
    "    data = json.load(data_file)\n",
    "images = np.zeros((len(data), 784))\n",
    "for i in range(len(data)):\n",
    "    images[i] = data[i]\n",
    "\n",
    "# 정답 데이터 로드 \n",
    "with open('./data/mnist_testing/correctValues.json') as data_file:\n",
    "    data = json.load(data_file)\n",
    "correct_vals = np.zeros((len(data), 10))\n",
    "for i in range(len(data)):\n",
    "    correct_vals[i] = data[i]"
   ]
  },
  {
   "cell_type": "code",
   "execution_count": 81,
   "metadata": {
    "scrolled": false
   },
   "outputs": [
    {
     "name": "stdout",
     "output_type": "stream",
     "text": [
      "내 데이터로 테스트\n",
      "각 인스턴스 예측\n",
      "Neural Network with 10 layers\n",
      "8367\n",
      "901.1\n",
      "[0.978, 0.951, 0.961, 0.93, 0.836, 0.741, 0.953, 0.91, 0.856, 0.895]\n",
      "[0.803, 0.975, 0.868, 0.857, 0.988, 0.961, 0.912, 0.963, 0.854, 0.89]\n"
     ]
    }
   ],
   "source": [
    "print(\"내 데이터로 테스트\")\n",
    "# 결과를 저장할 객체 생성\n",
    "result = {\n",
    "    'model_name' : 'Neural Network with 10 layers',\n",
    "    \"short_name\": \"NN\",\n",
    "    'performance' : {},\n",
    "    'predict' : []\n",
    "}\n",
    "\n",
    "# 각 인스턴스 예측\n",
    "print(\"각 인스턴스 예측\")\n",
    "cnt_correct = np.zeros(10)\n",
    "cnt_real = np.zeros(10)\n",
    "cnt_pred = np.zeros(10)\n",
    "\n",
    "# 시간 재기 \n",
    "time_start = current_milli_time()\n",
    "for i in range(len(images)):\n",
    "    model.predict_proba(instance)[0].tolist()\n",
    "time_required = current_milli_time() - time_start\n",
    "\n",
    "for i in range(len(images)):\n",
    "    instance = images[i:i+1]\n",
    "    real = correct_vals[i].tolist()\n",
    "    pred_proba = model.predict_proba(instance)[0].tolist()\n",
    "    real_num = get_hot_idx(real)\n",
    "    pred_num = get_hot_idx(pred_proba)\n",
    "    \n",
    "    cnt_real[real_num] += 1\n",
    "    cnt_pred[pred_num] += 1\n",
    "    if real_num is pred_num : \n",
    "        cnt_correct[real_num] += 1\n",
    "        \n",
    "    result['predict'].append({\n",
    "        'real': real_num,\n",
    "        'pred': pred_num,\n",
    "        'pred_proba': get_round_array(pred_proba, 2)\n",
    "    })\n",
    "\n",
    "result['performance']['required_time'] = time_required\n",
    "result['performance']['accuracy'] = np.average(cnt_correct)\n",
    "result['performance']['recall'] = (cnt_correct / cnt_real).tolist()\n",
    "result['performance']['precision'] = get_round_array((cnt_correct / cnt_pred).tolist(), 3)\n",
    "\n",
    "print(result['model_name'])\n",
    "print(result['performance']['required_time'])\n",
    "print(result['performance']['accuracy'])\n",
    "print(result['performance']['recall'])\n",
    "print(result['performance']['precision'])"
   ]
  },
  {
   "cell_type": "markdown",
   "metadata": {},
   "source": [
    "### 모델 저장"
   ]
  },
  {
   "cell_type": "code",
   "execution_count": 70,
   "metadata": {},
   "outputs": [],
   "source": [
    "from keras.models import load_model\n",
    "model.save(model_name+'.h5')"
   ]
  },
  {
   "cell_type": "markdown",
   "metadata": {},
   "source": [
    "### 예측 결과 저장"
   ]
  },
  {
   "cell_type": "code",
   "execution_count": 82,
   "metadata": {},
   "outputs": [
    {
     "name": "stdout",
     "output_type": "stream",
     "text": [
      "mnist_nn_10-layers__result.json 저장완료\n"
     ]
    }
   ],
   "source": [
    "# print(result)\n",
    "save_to_json_file(result, model_name+'__result.json')"
   ]
  },
  {
   "cell_type": "code",
   "execution_count": null,
   "metadata": {},
   "outputs": [],
   "source": []
  }
 ],
 "metadata": {
  "kernelspec": {
   "display_name": "Python 3",
   "language": "python",
   "name": "python3"
  },
  "language_info": {
   "codemirror_mode": {
    "name": "ipython",
    "version": 3
   },
   "file_extension": ".py",
   "mimetype": "text/x-python",
   "name": "python",
   "nbconvert_exporter": "python",
   "pygments_lexer": "ipython3",
   "version": "3.6.5"
  }
 },
 "nbformat": 4,
 "nbformat_minor": 2
}
