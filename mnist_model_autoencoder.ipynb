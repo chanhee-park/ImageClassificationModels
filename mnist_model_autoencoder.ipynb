{
 "cells": [
  {
   "cell_type": "markdown",
   "metadata": {},
   "source": [
    "## 오토인코더 /  MNIST"
   ]
  },
  {
   "cell_type": "markdown",
   "metadata": {},
   "source": [
    "### 사용 패키지"
   ]
  },
  {
   "cell_type": "code",
   "execution_count": 31,
   "metadata": {},
   "outputs": [],
   "source": [
    "import time\n",
    "\n",
    "import numpy as np\n",
    "\n",
    "from keras.datasets import mnist\n",
    "from keras.layers import Input, Dense\n",
    "from keras.models import Model\n",
    "\n",
    "import json"
   ]
  },
  {
   "cell_type": "code",
   "execution_count": 6,
   "metadata": {},
   "outputs": [],
   "source": [
    "# Constants & Functions\n",
    "model_name = 'mnist_autoencoder'\n",
    "\n",
    "def get_hot_idx(arr):\n",
    "    return arr.index(max(arr))\n",
    "\n",
    "def save_to_json_file(data, filename):\n",
    "    with open(filename, 'w') as outfile:\n",
    "        json.dump(data, outfile)\n",
    "    print(filename + ' 저장완료')\n",
    "    \n",
    "def get_round_array(array, decimal):\n",
    "    return [round(e, decimal) for e in array]\n",
    "\n",
    "current_milli_time = lambda: int(round(time.time() * 1000))"
   ]
  },
  {
   "cell_type": "markdown",
   "metadata": {},
   "source": [
    "### Data"
   ]
  },
  {
   "cell_type": "code",
   "execution_count": 4,
   "metadata": {},
   "outputs": [
    {
     "name": "stdout",
     "output_type": "stream",
     "text": [
      "(60000, 784)\n",
      "(10000, 784)\n"
     ]
    }
   ],
   "source": [
    "# Data\n",
    "(x_train, y_train), (x_test, y_test) = mnist.load_data()\n",
    "\n",
    "x_train = x_train.astype('float32') / 255.\n",
    "x_test = x_test.astype('float32') / 255.\n",
    "x_train = x_train.reshape((len(x_train), np.prod(x_train.shape[1:])))\n",
    "x_test = x_test.reshape((len(x_test), np.prod(x_test.shape[1:])))\n",
    "\n",
    "print(x_train.shape)\n",
    "print(x_test.shape)"
   ]
  },
  {
   "cell_type": "markdown",
   "metadata": {},
   "source": [
    "### Model"
   ]
  },
  {
   "cell_type": "code",
   "execution_count": 24,
   "metadata": {},
   "outputs": [],
   "source": [
    "encoding_dim = 32\n",
    "input_img = Input(shape=(784,))\n",
    "\n",
    "# Build encoder\n",
    "encoded = Dense(encoding_dim, activation='relu')(input_img)\n",
    "encoder = Model(input_img, encoded)\n",
    "\n",
    "# Build decoder\n",
    "\n",
    "encoded_input = Input(shape=(encoding_dim,))\n",
    "decoded = Dense(784, activation='sigmoid')(encoded)\n",
    "decoder_layer = autoencoder.layers[-1]\n",
    "decoder = Model(encoded_input, decoder_layer(encoded_input))\n",
    "\n",
    "# Build autoencoder\n",
    "autoencoder = Model(input_img, decoded)\n",
    "\n",
    "# Compile\n",
    "autoencoder.compile(optimizer='adadelta', loss='binary_crossentropy')"
   ]
  },
  {
   "cell_type": "code",
   "execution_count": 25,
   "metadata": {},
   "outputs": [
    {
     "data": {
      "image/svg+xml": [
       "<svg height=\"215pt\" viewBox=\"0.00 0.00 275.68 215.00\" width=\"276pt\" xmlns=\"http://www.w3.org/2000/svg\" xmlns:xlink=\"http://www.w3.org/1999/xlink\">\n",
       "<g class=\"graph\" id=\"graph0\" transform=\"scale(1 1) rotate(0) translate(4 211)\">\n",
       "<title>G</title>\n",
       "<polygon fill=\"#ffffff\" points=\"-4,4 -4,-211 271.6797,-211 271.6797,4 -4,4\" stroke=\"transparent\"/>\n",
       "<!-- 4917204976 -->\n",
       "<g class=\"node\" id=\"node1\">\n",
       "<title>4917204976</title>\n",
       "<polygon fill=\"none\" points=\"0,-162.5 0,-206.5 267.6797,-206.5 267.6797,-162.5 0,-162.5\" stroke=\"#000000\"/>\n",
       "<text fill=\"#000000\" font-family=\"Times,serif\" font-size=\"14.00\" text-anchor=\"middle\" x=\"64.1812\" y=\"-180.3\">input_7: InputLayer</text>\n",
       "<polyline fill=\"none\" points=\"128.3623,-162.5 128.3623,-206.5 \" stroke=\"#000000\"/>\n",
       "<text fill=\"#000000\" font-family=\"Times,serif\" font-size=\"14.00\" text-anchor=\"middle\" x=\"156.1968\" y=\"-191.3\">input:</text>\n",
       "<polyline fill=\"none\" points=\"128.3623,-184.5 184.0313,-184.5 \" stroke=\"#000000\"/>\n",
       "<text fill=\"#000000\" font-family=\"Times,serif\" font-size=\"14.00\" text-anchor=\"middle\" x=\"156.1968\" y=\"-169.3\">output:</text>\n",
       "<polyline fill=\"none\" points=\"184.0313,-162.5 184.0313,-206.5 \" stroke=\"#000000\"/>\n",
       "<text fill=\"#000000\" font-family=\"Times,serif\" font-size=\"14.00\" text-anchor=\"middle\" x=\"225.8555\" y=\"-191.3\">(None, 784)</text>\n",
       "<polyline fill=\"none\" points=\"184.0313,-184.5 267.6797,-184.5 \" stroke=\"#000000\"/>\n",
       "<text fill=\"#000000\" font-family=\"Times,serif\" font-size=\"14.00\" text-anchor=\"middle\" x=\"225.8555\" y=\"-169.3\">(None, 784)</text>\n",
       "</g>\n",
       "<!-- 4917205032 -->\n",
       "<g class=\"node\" id=\"node2\">\n",
       "<title>4917205032</title>\n",
       "<polygon fill=\"none\" points=\"12.0552,-81.5 12.0552,-125.5 255.6245,-125.5 255.6245,-81.5 12.0552,-81.5\" stroke=\"#000000\"/>\n",
       "<text fill=\"#000000\" font-family=\"Times,serif\" font-size=\"14.00\" text-anchor=\"middle\" x=\"64.1812\" y=\"-99.3\">dense_7: Dense</text>\n",
       "<polyline fill=\"none\" points=\"116.3071,-81.5 116.3071,-125.5 \" stroke=\"#000000\"/>\n",
       "<text fill=\"#000000\" font-family=\"Times,serif\" font-size=\"14.00\" text-anchor=\"middle\" x=\"144.1416\" y=\"-110.3\">input:</text>\n",
       "<polyline fill=\"none\" points=\"116.3071,-103.5 171.9761,-103.5 \" stroke=\"#000000\"/>\n",
       "<text fill=\"#000000\" font-family=\"Times,serif\" font-size=\"14.00\" text-anchor=\"middle\" x=\"144.1416\" y=\"-88.3\">output:</text>\n",
       "<polyline fill=\"none\" points=\"171.9761,-81.5 171.9761,-125.5 \" stroke=\"#000000\"/>\n",
       "<text fill=\"#000000\" font-family=\"Times,serif\" font-size=\"14.00\" text-anchor=\"middle\" x=\"213.8003\" y=\"-110.3\">(None, 784)</text>\n",
       "<polyline fill=\"none\" points=\"171.9761,-103.5 255.6245,-103.5 \" stroke=\"#000000\"/>\n",
       "<text fill=\"#000000\" font-family=\"Times,serif\" font-size=\"14.00\" text-anchor=\"middle\" x=\"213.8003\" y=\"-88.3\">(None, 32)</text>\n",
       "</g>\n",
       "<!-- 4917204976&#45;&gt;4917205032 -->\n",
       "<g class=\"edge\" id=\"edge1\">\n",
       "<title>4917204976-&gt;4917205032</title>\n",
       "<path d=\"M133.8398,-162.3664C133.8398,-154.1516 133.8398,-144.6579 133.8398,-135.7252\" fill=\"none\" stroke=\"#000000\"/>\n",
       "<polygon fill=\"#000000\" points=\"137.3399,-135.6068 133.8398,-125.6068 130.3399,-135.6069 137.3399,-135.6068\" stroke=\"#000000\"/>\n",
       "</g>\n",
       "<!-- 4917205536 -->\n",
       "<g class=\"node\" id=\"node3\">\n",
       "<title>4917205536</title>\n",
       "<polygon fill=\"none\" points=\"12.0552,-.5 12.0552,-44.5 255.6245,-44.5 255.6245,-.5 12.0552,-.5\" stroke=\"#000000\"/>\n",
       "<text fill=\"#000000\" font-family=\"Times,serif\" font-size=\"14.00\" text-anchor=\"middle\" x=\"64.1812\" y=\"-18.3\">dense_8: Dense</text>\n",
       "<polyline fill=\"none\" points=\"116.3071,-.5 116.3071,-44.5 \" stroke=\"#000000\"/>\n",
       "<text fill=\"#000000\" font-family=\"Times,serif\" font-size=\"14.00\" text-anchor=\"middle\" x=\"144.1416\" y=\"-29.3\">input:</text>\n",
       "<polyline fill=\"none\" points=\"116.3071,-22.5 171.9761,-22.5 \" stroke=\"#000000\"/>\n",
       "<text fill=\"#000000\" font-family=\"Times,serif\" font-size=\"14.00\" text-anchor=\"middle\" x=\"144.1416\" y=\"-7.3\">output:</text>\n",
       "<polyline fill=\"none\" points=\"171.9761,-.5 171.9761,-44.5 \" stroke=\"#000000\"/>\n",
       "<text fill=\"#000000\" font-family=\"Times,serif\" font-size=\"14.00\" text-anchor=\"middle\" x=\"213.8003\" y=\"-29.3\">(None, 32)</text>\n",
       "<polyline fill=\"none\" points=\"171.9761,-22.5 255.6245,-22.5 \" stroke=\"#000000\"/>\n",
       "<text fill=\"#000000\" font-family=\"Times,serif\" font-size=\"14.00\" text-anchor=\"middle\" x=\"213.8003\" y=\"-7.3\">(None, 784)</text>\n",
       "</g>\n",
       "<!-- 4917205032&#45;&gt;4917205536 -->\n",
       "<g class=\"edge\" id=\"edge2\">\n",
       "<title>4917205032-&gt;4917205536</title>\n",
       "<path d=\"M133.8398,-81.3664C133.8398,-73.1516 133.8398,-63.6579 133.8398,-54.7252\" fill=\"none\" stroke=\"#000000\"/>\n",
       "<polygon fill=\"#000000\" points=\"137.3399,-54.6068 133.8398,-44.6068 130.3399,-54.6069 137.3399,-54.6068\" stroke=\"#000000\"/>\n",
       "</g>\n",
       "</g>\n",
       "</svg>"
      ],
      "text/plain": [
       "<IPython.core.display.SVG object>"
      ]
     },
     "execution_count": 25,
     "metadata": {},
     "output_type": "execute_result"
    }
   ],
   "source": [
    "# 구축된 모델 구조 시각화 \n",
    "from IPython.display import SVG\n",
    "from keras.utils.vis_utils import model_to_dot\n",
    "\n",
    "%matplotlib inline\n",
    "SVG(model_to_dot(autoencoder, show_shapes=True).create(prog='dot', format='svg'))"
   ]
  },
  {
   "cell_type": "markdown",
   "metadata": {},
   "source": [
    "### Train Model"
   ]
  },
  {
   "cell_type": "code",
   "execution_count": 36,
   "metadata": {},
   "outputs": [
    {
     "name": "stdout",
     "output_type": "stream",
     "text": [
      "Train on 60000 samples, validate on 10000 samples\n",
      "Epoch 1/3\n",
      "60000/60000 [==============================] - 6s 104us/step - loss: 0.1227 - val_loss: 0.1157\n",
      "Epoch 2/3\n",
      "60000/60000 [==============================] - 6s 97us/step - loss: 0.1134 - val_loss: 0.1084\n",
      "Epoch 3/3\n",
      "60000/60000 [==============================] - 6s 96us/step - loss: 0.1078 - val_loss: 0.1041\n"
     ]
    }
   ],
   "source": [
    "autoencoder.fit(x_train, x_train,\n",
    "                epochs=3,\n",
    "                batch_size=32,\n",
    "                shuffle=True,\n",
    "                validation_data=(x_test, x_test))\n",
    "\n",
    "model = autoencoder"
   ]
  },
  {
   "cell_type": "code",
   "execution_count": 43,
   "metadata": {},
   "outputs": [
    {
     "name": "stdout",
     "output_type": "stream",
     "text": [
      "[[ 7.5390687  2.1823611  3.864634  ...  2.0153692 11.495745   7.1138144]\n",
      " [ 5.4056234 11.352936   7.3416843 ...  7.525444   4.935829   5.239477 ]\n",
      " [ 7.6549163  7.8624315  0.1293841 ...  3.9194336  7.8471136  2.0626278]\n",
      " ...\n",
      " [19.97193    4.837185   4.4595575 ...  4.240254  13.202328   6.5465503]\n",
      " [20.957106   4.970554   7.682452  ...  7.10435   11.537703   5.938708 ]\n",
      " [16.125626  16.19218    5.1203785 ...  3.8474464  6.6905746  7.8813753]]\n",
      "\n",
      "[[0.7635965  0.6415572  0.4228383  ... 0.02800225 0.71102786 0.7085836 ]\n",
      " [0.8998034  0.17687473 0.0383903  ... 0.59009236 0.03680435 0.90306735]\n",
      " [0.6959591  0.5492238  0.12194519 ... 0.4263805  0.34618315 0.6953618 ]\n",
      " ...\n",
      " [0.74966216 0.8213618  0.02734989 ... 0.0598789  0.6020483  0.74723995]\n",
      " [0.7147106  0.3466544  0.04968091 ... 0.14672004 0.17120682 0.5783283 ]\n",
      " [0.9739733  0.37981653 0.01505945 ... 0.4393459  0.28997514 0.99132454]]\n",
      "\n",
      "[[3.72063223e-05 1.27575468e-05 2.53631788e-05 ... 1.04869476e-04\n",
      "  1.45409967e-05 3.11004333e-05]\n",
      " [4.02547766e-06 5.32229715e-05 4.82062896e-05 ... 1.21833082e-05\n",
      "  9.73283932e-06 1.72838099e-05]\n",
      " [1.87658516e-04 1.68118742e-04 7.03732658e-04 ... 1.63748307e-04\n",
      "  3.71805596e-04 8.92115859e-05]\n",
      " ...\n",
      " [4.09301526e-09 2.83006614e-08 7.82414418e-08 ... 1.61560848e-07\n",
      "  3.22926184e-07 2.54323368e-07]\n",
      " [2.44385006e-07 6.74597959e-06 6.90283423e-06 ... 4.65549238e-06\n",
      "  5.01212435e-06 6.90578372e-06]\n",
      " [2.56837690e-10 7.61209975e-08 9.87177540e-09 ... 1.79641706e-08\n",
      "  9.87842839e-08 6.23173264e-08]]\n"
     ]
    }
   ],
   "source": [
    "encoded_imgs = encoder.predict(x_test)\n",
    "decoded_imgs = decoder.predict(encoded_imgs)\n",
    "\n",
    "# 인코더는 차원 축소\n",
    "# 디코더는 생성 모델\n",
    "# 오토인코더를 통해 생성된 데이터를 다른 예측 모델에 넣으면 성능이 올라간다. (피쳐가 잘 뽑혀서!)"
   ]
  },
  {
   "cell_type": "code",
   "execution_count": null,
   "metadata": {},
   "outputs": [],
   "source": []
  }
 ],
 "metadata": {
  "kernelspec": {
   "display_name": "Python 3",
   "language": "python",
   "name": "python3"
  },
  "language_info": {
   "codemirror_mode": {
    "name": "ipython",
    "version": 3
   },
   "file_extension": ".py",
   "mimetype": "text/x-python",
   "name": "python",
   "nbconvert_exporter": "python",
   "pygments_lexer": "ipython3",
   "version": "3.6.5"
  }
 },
 "nbformat": 4,
 "nbformat_minor": 2
}
