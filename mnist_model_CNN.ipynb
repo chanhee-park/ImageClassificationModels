{
 "cells": [
  {
   "cell_type": "markdown",
   "metadata": {},
   "source": [
    "## 뉴럴네트워크 모델 / MNIST"
   ]
  },
  {
   "cell_type": "markdown",
   "metadata": {},
   "source": [
    "### 사용 패키지"
   ]
  },
  {
   "cell_type": "code",
   "execution_count": 4,
   "metadata": {},
   "outputs": [],
   "source": [
    "import random\n",
    "import time\n",
    "\n",
    "import numpy as np\n",
    "\n",
    "import keras\n",
    "from keras.datasets import mnist\n",
    "from keras.models import Sequential\n",
    "from keras.layers import Dense, Activation\n",
    "from keras.utils import to_categorical\n",
    "from keras import losses\n",
    "from keras import backend as K\n",
    "\n",
    "from keras.layers import Flatten\n",
    "from keras.layers.convolutional import Conv2D\n",
    "from keras.layers.convolutional import MaxPooling2D\n",
    "from keras.preprocessing.image import ImageDataGenerator\n",
    "\n",
    "import json"
   ]
  },
  {
   "cell_type": "code",
   "execution_count": 59,
   "metadata": {},
   "outputs": [],
   "source": [
    "# Constants & Functions\n",
    "model_name = 'mnist_cnn'\n",
    "\n",
    "def get_hot_idx(arr):\n",
    "    return arr.index(max(arr))\n",
    "\n",
    "def save_to_json_file(data, filename):\n",
    "    with open(filename, 'w') as outfile:\n",
    "        json.dump(data, outfile)\n",
    "    print(filename + ' 저장완료')\n",
    "    \n",
    "def get_round_array(array, decimal):\n",
    "    return [round(e, decimal) for e in array]\n",
    "\n",
    "current_milli_time = lambda: int(round(time.time() * 1000))"
   ]
  },
  {
   "cell_type": "markdown",
   "metadata": {},
   "source": [
    "### 데이터"
   ]
  },
  {
   "cell_type": "code",
   "execution_count": 35,
   "metadata": {},
   "outputs": [
    {
     "name": "stdout",
     "output_type": "stream",
     "text": [
      "X_train shape: (10000, 28, 28, 1)\n",
      "10000 train samples\n",
      "10000 train samples\n",
      "10000 test samples\n",
      "10000 test samples\n"
     ]
    }
   ],
   "source": [
    "# 데이터 관련 파라메터 정의\n",
    "img_rows, img_cols = 28, 28\n",
    "num_of_feature = img_rows * img_cols \n",
    "\n",
    "num_of_class = 10\n",
    "num_of_trainset = 10000\n",
    "num_of_testset = 10000\n",
    "\n",
    "# the data, split between train and test sets\n",
    "(X_train, Y_train), (X_test, Y_test) = mnist.load_data()\n",
    "\n",
    "X_train = X_train.reshape(X_train.shape[0], img_rows, img_cols, 1)[:num_of_trainset]\n",
    "Y_tarin = Y_train[:num_of_trainset]\n",
    "X_test = X_test.reshape(X_test.shape[0], img_rows, img_cols, 1)[:num_of_testset]\n",
    "Y_test = Y_test[:num_of_testset]\n",
    "\n",
    "input_shape = (img_rows, img_cols, 1)\n",
    "\n",
    "X_train = X_train.astype('float32')\n",
    "X_test = X_test.astype('float32')\n",
    "X_train /= 255\n",
    "X_test /= 255\n",
    "\n",
    "# convert class vectors to binary class matrices\n",
    "Y_train = keras.utils.to_categorical(Y_train, num_of_class)\n",
    "Y_test = keras.utils.to_categorical(Y_test, num_of_class)\n",
    "\n",
    "print('X_train shape:', X_train.shape)\n",
    "print(X_train.shape[0], 'train samples')\n",
    "print(Y_tarin.shape[0], 'train samples')\n",
    "print(X_test.shape[0], 'test samples')\n",
    "print(Y_test.shape[0], 'test samples')"
   ]
  },
  {
   "cell_type": "markdown",
   "metadata": {},
   "source": [
    "### 모델구축"
   ]
  },
  {
   "cell_type": "code",
   "execution_count": 49,
   "metadata": {},
   "outputs": [],
   "source": [
    "# 모델 구축 \n",
    "\n",
    "model = Sequential()\n",
    "model.add(Conv2D(32, kernel_size=(3, 3),\n",
    "                 activation='relu',\n",
    "                 input_shape=input_shape))\n",
    "model.add(Conv2D(64, (3, 3), activation='relu'))\n",
    "model.add(MaxPooling2D(pool_size=(2, 2)))\n",
    "model.add(Flatten())\n",
    "model.add(Dense(num_of_class, activation='softmax'))\n",
    "\n",
    "model.compile(loss=keras.losses.categorical_crossentropy,\n",
    "              optimizer=keras.optimizers.Adadelta(),\n",
    "              metrics=['accuracy'])"
   ]
  },
  {
   "cell_type": "code",
   "execution_count": 50,
   "metadata": {},
   "outputs": [
    {
     "data": {
      "image/svg+xml": [
       "<svg height=\"450pt\" viewBox=\"0.00 0.00 393.93 450.00\" width=\"394pt\" xmlns=\"http://www.w3.org/2000/svg\" xmlns:xlink=\"http://www.w3.org/1999/xlink\">\n",
       "<g class=\"graph\" id=\"graph0\" transform=\"scale(1 1) rotate(0) translate(4 446)\">\n",
       "<title>G</title>\n",
       "<polygon fill=\"#ffffff\" points=\"-4,4 -4,-446 389.9277,-446 389.9277,4 -4,4\" stroke=\"transparent\"/>\n",
       "<!-- 5098754344 -->\n",
       "<g class=\"node\" id=\"node1\">\n",
       "<title>5098754344</title>\n",
       "<polygon fill=\"none\" points=\"39.2793,-324.5 39.2793,-368.5 346.6484,-368.5 346.6484,-324.5 39.2793,-324.5\" stroke=\"#000000\"/>\n",
       "<text fill=\"#000000\" font-family=\"Times,serif\" font-size=\"14.00\" text-anchor=\"middle\" x=\"105.8052\" y=\"-342.3\">conv2d_15: Conv2D</text>\n",
       "<polyline fill=\"none\" points=\"172.3311,-324.5 172.3311,-368.5 \" stroke=\"#000000\"/>\n",
       "<text fill=\"#000000\" font-family=\"Times,serif\" font-size=\"14.00\" text-anchor=\"middle\" x=\"200.1655\" y=\"-353.3\">input:</text>\n",
       "<polyline fill=\"none\" points=\"172.3311,-346.5 228,-346.5 \" stroke=\"#000000\"/>\n",
       "<text fill=\"#000000\" font-family=\"Times,serif\" font-size=\"14.00\" text-anchor=\"middle\" x=\"200.1655\" y=\"-331.3\">output:</text>\n",
       "<polyline fill=\"none\" points=\"228,-324.5 228,-368.5 \" stroke=\"#000000\"/>\n",
       "<text fill=\"#000000\" font-family=\"Times,serif\" font-size=\"14.00\" text-anchor=\"middle\" x=\"287.3242\" y=\"-353.3\">(None, 28, 28, 1)</text>\n",
       "<polyline fill=\"none\" points=\"228,-346.5 346.6484,-346.5 \" stroke=\"#000000\"/>\n",
       "<text fill=\"#000000\" font-family=\"Times,serif\" font-size=\"14.00\" text-anchor=\"middle\" x=\"287.3242\" y=\"-331.3\">(None, 26, 26, 32)</text>\n",
       "</g>\n",
       "<!-- 4579138864 -->\n",
       "<g class=\"node\" id=\"node2\">\n",
       "<title>4579138864</title>\n",
       "<polygon fill=\"none\" points=\"39.2793,-243.5 39.2793,-287.5 346.6484,-287.5 346.6484,-243.5 39.2793,-243.5\" stroke=\"#000000\"/>\n",
       "<text fill=\"#000000\" font-family=\"Times,serif\" font-size=\"14.00\" text-anchor=\"middle\" x=\"105.8052\" y=\"-261.3\">conv2d_16: Conv2D</text>\n",
       "<polyline fill=\"none\" points=\"172.3311,-243.5 172.3311,-287.5 \" stroke=\"#000000\"/>\n",
       "<text fill=\"#000000\" font-family=\"Times,serif\" font-size=\"14.00\" text-anchor=\"middle\" x=\"200.1655\" y=\"-272.3\">input:</text>\n",
       "<polyline fill=\"none\" points=\"172.3311,-265.5 228,-265.5 \" stroke=\"#000000\"/>\n",
       "<text fill=\"#000000\" font-family=\"Times,serif\" font-size=\"14.00\" text-anchor=\"middle\" x=\"200.1655\" y=\"-250.3\">output:</text>\n",
       "<polyline fill=\"none\" points=\"228,-243.5 228,-287.5 \" stroke=\"#000000\"/>\n",
       "<text fill=\"#000000\" font-family=\"Times,serif\" font-size=\"14.00\" text-anchor=\"middle\" x=\"287.3242\" y=\"-272.3\">(None, 26, 26, 32)</text>\n",
       "<polyline fill=\"none\" points=\"228,-265.5 346.6484,-265.5 \" stroke=\"#000000\"/>\n",
       "<text fill=\"#000000\" font-family=\"Times,serif\" font-size=\"14.00\" text-anchor=\"middle\" x=\"287.3242\" y=\"-250.3\">(None, 24, 24, 64)</text>\n",
       "</g>\n",
       "<!-- 5098754344&#45;&gt;4579138864 -->\n",
       "<g class=\"edge\" id=\"edge2\">\n",
       "<title>5098754344-&gt;4579138864</title>\n",
       "<path d=\"M192.9639,-324.3664C192.9639,-316.1516 192.9639,-306.6579 192.9639,-297.7252\" fill=\"none\" stroke=\"#000000\"/>\n",
       "<polygon fill=\"#000000\" points=\"196.464,-297.6068 192.9639,-287.6068 189.464,-297.6069 196.464,-297.6068\" stroke=\"#000000\"/>\n",
       "</g>\n",
       "<!-- 5098535568 -->\n",
       "<g class=\"node\" id=\"node3\">\n",
       "<title>5098535568</title>\n",
       "<polygon fill=\"none\" points=\"0,-162.5 0,-206.5 385.9277,-206.5 385.9277,-162.5 0,-162.5\" stroke=\"#000000\"/>\n",
       "<text fill=\"#000000\" font-family=\"Times,serif\" font-size=\"14.00\" text-anchor=\"middle\" x=\"105.8052\" y=\"-180.3\">max_pooling2d_8: MaxPooling2D</text>\n",
       "<polyline fill=\"none\" points=\"211.6104,-162.5 211.6104,-206.5 \" stroke=\"#000000\"/>\n",
       "<text fill=\"#000000\" font-family=\"Times,serif\" font-size=\"14.00\" text-anchor=\"middle\" x=\"239.4448\" y=\"-191.3\">input:</text>\n",
       "<polyline fill=\"none\" points=\"211.6104,-184.5 267.2793,-184.5 \" stroke=\"#000000\"/>\n",
       "<text fill=\"#000000\" font-family=\"Times,serif\" font-size=\"14.00\" text-anchor=\"middle\" x=\"239.4448\" y=\"-169.3\">output:</text>\n",
       "<polyline fill=\"none\" points=\"267.2793,-162.5 267.2793,-206.5 \" stroke=\"#000000\"/>\n",
       "<text fill=\"#000000\" font-family=\"Times,serif\" font-size=\"14.00\" text-anchor=\"middle\" x=\"326.6035\" y=\"-191.3\">(None, 24, 24, 64)</text>\n",
       "<polyline fill=\"none\" points=\"267.2793,-184.5 385.9277,-184.5 \" stroke=\"#000000\"/>\n",
       "<text fill=\"#000000\" font-family=\"Times,serif\" font-size=\"14.00\" text-anchor=\"middle\" x=\"326.6035\" y=\"-169.3\">(None, 12, 12, 64)</text>\n",
       "</g>\n",
       "<!-- 4579138864&#45;&gt;5098535568 -->\n",
       "<g class=\"edge\" id=\"edge3\">\n",
       "<title>4579138864-&gt;5098535568</title>\n",
       "<path d=\"M192.9639,-243.3664C192.9639,-235.1516 192.9639,-225.6579 192.9639,-216.7252\" fill=\"none\" stroke=\"#000000\"/>\n",
       "<polygon fill=\"#000000\" points=\"196.464,-216.6068 192.9639,-206.6068 189.464,-216.6069 196.464,-216.6068\" stroke=\"#000000\"/>\n",
       "</g>\n",
       "<!-- 5098755128 -->\n",
       "<g class=\"node\" id=\"node4\">\n",
       "<title>5098755128</title>\n",
       "<polygon fill=\"none\" points=\"50.1724,-81.5 50.1724,-125.5 335.7554,-125.5 335.7554,-81.5 50.1724,-81.5\" stroke=\"#000000\"/>\n",
       "<text fill=\"#000000\" font-family=\"Times,serif\" font-size=\"14.00\" text-anchor=\"middle\" x=\"105.8052\" y=\"-99.3\">flatten_8: Flatten</text>\n",
       "<polyline fill=\"none\" points=\"161.438,-81.5 161.438,-125.5 \" stroke=\"#000000\"/>\n",
       "<text fill=\"#000000\" font-family=\"Times,serif\" font-size=\"14.00\" text-anchor=\"middle\" x=\"189.2725\" y=\"-110.3\">input:</text>\n",
       "<polyline fill=\"none\" points=\"161.438,-103.5 217.1069,-103.5 \" stroke=\"#000000\"/>\n",
       "<text fill=\"#000000\" font-family=\"Times,serif\" font-size=\"14.00\" text-anchor=\"middle\" x=\"189.2725\" y=\"-88.3\">output:</text>\n",
       "<polyline fill=\"none\" points=\"217.1069,-81.5 217.1069,-125.5 \" stroke=\"#000000\"/>\n",
       "<text fill=\"#000000\" font-family=\"Times,serif\" font-size=\"14.00\" text-anchor=\"middle\" x=\"276.4312\" y=\"-110.3\">(None, 12, 12, 64)</text>\n",
       "<polyline fill=\"none\" points=\"217.1069,-103.5 335.7554,-103.5 \" stroke=\"#000000\"/>\n",
       "<text fill=\"#000000\" font-family=\"Times,serif\" font-size=\"14.00\" text-anchor=\"middle\" x=\"276.4312\" y=\"-88.3\">(None, 9216)</text>\n",
       "</g>\n",
       "<!-- 5098535568&#45;&gt;5098755128 -->\n",
       "<g class=\"edge\" id=\"edge4\">\n",
       "<title>5098535568-&gt;5098755128</title>\n",
       "<path d=\"M192.9639,-162.3664C192.9639,-154.1516 192.9639,-144.6579 192.9639,-135.7252\" fill=\"none\" stroke=\"#000000\"/>\n",
       "<polygon fill=\"#000000\" points=\"196.464,-135.6068 192.9639,-125.6068 189.464,-135.6069 196.464,-135.6068\" stroke=\"#000000\"/>\n",
       "</g>\n",
       "<!-- 5098754288 -->\n",
       "<g class=\"node\" id=\"node5\">\n",
       "<title>5098754288</title>\n",
       "<polygon fill=\"none\" points=\"64.1792,-.5 64.1792,-44.5 321.7485,-44.5 321.7485,-.5 64.1792,-.5\" stroke=\"#000000\"/>\n",
       "<text fill=\"#000000\" font-family=\"Times,serif\" font-size=\"14.00\" text-anchor=\"middle\" x=\"119.8052\" y=\"-18.3\">dense_15: Dense</text>\n",
       "<polyline fill=\"none\" points=\"175.4312,-.5 175.4312,-44.5 \" stroke=\"#000000\"/>\n",
       "<text fill=\"#000000\" font-family=\"Times,serif\" font-size=\"14.00\" text-anchor=\"middle\" x=\"203.2656\" y=\"-29.3\">input:</text>\n",
       "<polyline fill=\"none\" points=\"175.4312,-22.5 231.1001,-22.5 \" stroke=\"#000000\"/>\n",
       "<text fill=\"#000000\" font-family=\"Times,serif\" font-size=\"14.00\" text-anchor=\"middle\" x=\"203.2656\" y=\"-7.3\">output:</text>\n",
       "<polyline fill=\"none\" points=\"231.1001,-.5 231.1001,-44.5 \" stroke=\"#000000\"/>\n",
       "<text fill=\"#000000\" font-family=\"Times,serif\" font-size=\"14.00\" text-anchor=\"middle\" x=\"276.4243\" y=\"-29.3\">(None, 9216)</text>\n",
       "<polyline fill=\"none\" points=\"231.1001,-22.5 321.7485,-22.5 \" stroke=\"#000000\"/>\n",
       "<text fill=\"#000000\" font-family=\"Times,serif\" font-size=\"14.00\" text-anchor=\"middle\" x=\"276.4243\" y=\"-7.3\">(None, 10)</text>\n",
       "</g>\n",
       "<!-- 5098755128&#45;&gt;5098754288 -->\n",
       "<g class=\"edge\" id=\"edge5\">\n",
       "<title>5098755128-&gt;5098754288</title>\n",
       "<path d=\"M192.9639,-81.3664C192.9639,-73.1516 192.9639,-63.6579 192.9639,-54.7252\" fill=\"none\" stroke=\"#000000\"/>\n",
       "<polygon fill=\"#000000\" points=\"196.464,-54.6068 192.9639,-44.6068 189.464,-54.6069 196.464,-54.6068\" stroke=\"#000000\"/>\n",
       "</g>\n",
       "<!-- 5098755744 -->\n",
       "<g class=\"node\" id=\"node6\">\n",
       "<title>5098755744</title>\n",
       "<polygon fill=\"none\" points=\"149.9639,-405.5 149.9639,-441.5 235.9639,-441.5 235.9639,-405.5 149.9639,-405.5\" stroke=\"#000000\"/>\n",
       "<text fill=\"#000000\" font-family=\"Times,serif\" font-size=\"14.00\" text-anchor=\"middle\" x=\"192.9639\" y=\"-419.3\">5098755744</text>\n",
       "</g>\n",
       "<!-- 5098755744&#45;&gt;5098754344 -->\n",
       "<g class=\"edge\" id=\"edge1\">\n",
       "<title>5098755744-&gt;5098754344</title>\n",
       "<path d=\"M192.9639,-405.2521C192.9639,-397.3888 192.9639,-387.9498 192.9639,-378.9612\" fill=\"none\" stroke=\"#000000\"/>\n",
       "<polygon fill=\"#000000\" points=\"196.464,-378.7376 192.9639,-368.7377 189.464,-378.7377 196.464,-378.7376\" stroke=\"#000000\"/>\n",
       "</g>\n",
       "</g>\n",
       "</svg>"
      ],
      "text/plain": [
       "<IPython.core.display.SVG object>"
      ]
     },
     "execution_count": 50,
     "metadata": {},
     "output_type": "execute_result"
    }
   ],
   "source": [
    "# 구축된 모델 구조 시각화 \n",
    "from IPython.display import SVG\n",
    "from keras.utils.vis_utils import model_to_dot\n",
    "\n",
    "%matplotlib inline\n",
    "SVG(model_to_dot(model, show_shapes=True).create(prog='dot', format='svg'))"
   ]
  },
  {
   "cell_type": "markdown",
   "metadata": {},
   "source": [
    "### 모델 학습"
   ]
  },
  {
   "cell_type": "code",
   "execution_count": 51,
   "metadata": {},
   "outputs": [
    {
     "name": "stdout",
     "output_type": "stream",
     "text": [
      "10000 train input samples\n",
      "10000 train target samples\n",
      "Train on 10000 samples, validate on 10000 samples\n",
      "Epoch 1/3\n",
      "10000/10000 [==============================] - 30s 3ms/step - loss: 0.3425 - acc: 0.8944 - val_loss: 0.1233 - val_acc: 0.9643\n",
      "Epoch 2/3\n",
      "10000/10000 [==============================] - 29s 3ms/step - loss: 0.1043 - acc: 0.9683 - val_loss: 0.0872 - val_acc: 0.9729\n",
      "Epoch 3/3\n",
      "10000/10000 [==============================] - 28s 3ms/step - loss: 0.0672 - acc: 0.9796 - val_loss: 0.0767 - val_acc: 0.9752\n"
     ]
    },
    {
     "data": {
      "text/plain": [
       "<keras.callbacks.History at 0x131cc39b0>"
      ]
     },
     "execution_count": 51,
     "metadata": {},
     "output_type": "execute_result"
    }
   ],
   "source": [
    "# 모델 피팅\n",
    "print(X_train.shape[0], 'train input samples')\n",
    "print(Y_tarin.shape[0], 'train target samples')\n",
    "model.fit(X_train, Y_train[:num_of_trainset],\n",
    "          epochs=3,\n",
    "          batch_size=32,\n",
    "          verbose=1,\n",
    "          validation_data=(X_test, Y_test))"
   ]
  },
  {
   "cell_type": "markdown",
   "metadata": {},
   "source": [
    "### 성능 확인"
   ]
  },
  {
   "cell_type": "code",
   "execution_count": 52,
   "metadata": {},
   "outputs": [
    {
     "name": "stdout",
     "output_type": "stream",
     "text": [
      "Test loss: 0.07665459038931877\n",
      "Test accuracy: 0.9752\n"
     ]
    }
   ],
   "source": [
    "score = model.evaluate(X_test, Y_test, verbose=0)\n",
    "\n",
    "print('Test loss:', score[0])\n",
    "print('Test accuracy:', score[1])"
   ]
  },
  {
   "cell_type": "markdown",
   "metadata": {},
   "source": [
    "### 내 데이터로 테스트"
   ]
  },
  {
   "cell_type": "code",
   "execution_count": 68,
   "metadata": {
    "scrolled": false
   },
   "outputs": [
    {
     "name": "stdout",
     "output_type": "stream",
     "text": [
      "내 데이터로 테스트\n",
      "데이터 로드\n",
      "각 인스턴스 예측\n",
      "Convolutional Neural Network\n",
      "CNN\n",
      "12020\n",
      "971.8\n",
      "[0.985, 0.985, 0.977, 0.977, 0.967, 0.975, 0.972, 0.961, 0.952, 0.967]\n",
      "[0.974, 0.972, 0.954, 0.978, 0.986, 0.971, 0.987, 0.973, 0.975, 0.949]\n"
     ]
    }
   ],
   "source": [
    "print(\"내 데이터로 테스트\")\n",
    "\n",
    "# 이미지 데이터 로드 (pixel 값 배열)\n",
    "print(\"데이터 로드\")\n",
    "with open('./data/mnist_testing/images_not_normal.json') as data_file:\n",
    "    data = json.load(data_file)\n",
    "images = np.zeros((len(data), 784))\n",
    "for i in range(len(data)):\n",
    "    images[i] = data[i]\n",
    "\n",
    "# 정답 데이터 로드 \n",
    "with open('./data/mnist_testing/correctValues.json') as data_file:\n",
    "    data = json.load(data_file)\n",
    "correct_vals = np.zeros((len(data), 10))\n",
    "for i in range(len(data)):\n",
    "    correct_vals[i] = data[i]\n",
    "\n",
    "# CNN에 맞게 데이터 변경\n",
    "images = images.reshape(images.shape[0], img_rows, img_cols, 1)\n",
    "images /= 255\n",
    "\n",
    "# 결과를 저장할 객체 생성\n",
    "result = {\n",
    "    'model_name' : 'Convolutional Neural Network',\n",
    "    \"short_name\": \"CNN\",\n",
    "    'performance' : {},\n",
    "    'predict' : []\n",
    "}\n",
    "\n",
    "# 각 인스턴스 예측\n",
    "print(\"각 인스턴스 예측\")\n",
    "cnt_correct = np.zeros(10)\n",
    "cnt_real = np.zeros(10)\n",
    "cnt_pred = np.zeros(10)\n",
    "\n",
    "# 시간 재기 \n",
    "time_start = current_milli_time()\n",
    "for i in range(len(images)):\n",
    "    model.predict_proba(instance)[0].tolist()\n",
    "time_required = current_milli_time() - time_start\n",
    "\n",
    "for i in range(len(images)):\n",
    "    instance = images[i:i+1]\n",
    "    real = correct_vals[i].tolist()\n",
    "    pred_proba = model.predict_proba(instance)[0].tolist()\n",
    "    real_num = get_hot_idx(real)\n",
    "    pred_num = get_hot_idx(pred_proba)\n",
    "    cnt_real[real_num] += 1\n",
    "    cnt_pred[pred_num] += 1\n",
    "    if real_num is pred_num :\n",
    "        cnt_correct[real_num] += 1\n",
    "        \n",
    "    result['predict'].append({\n",
    "        'real': real_num,\n",
    "        'pred': pred_num,\n",
    "        'pred_proba': get_round_array(pred_proba, 2)\n",
    "    })\n",
    "\n",
    "result['performance']['required_time'] = time_required\n",
    "result['performance']['accuracy'] = np.average(cnt_correct)\n",
    "result['performance']['recall'] = (cnt_correct / cnt_real).tolist()\n",
    "result['performance']['precision'] = get_round_array((cnt_correct / cnt_pred).tolist(), 3)\n",
    "\n",
    "print(result['model_name'])\n",
    "print(result['short_name'])\n",
    "print(result['performance']['required_time'])\n",
    "print(result['performance']['accuracy'])\n",
    "print(result['performance']['recall'])\n",
    "print(result['performance']['precision'])"
   ]
  },
  {
   "cell_type": "markdown",
   "metadata": {},
   "source": [
    "### 모델 저장"
   ]
  },
  {
   "cell_type": "code",
   "execution_count": 62,
   "metadata": {},
   "outputs": [],
   "source": [
    "from keras.models import load_model\n",
    "model.save(model_name+'.h5')"
   ]
  },
  {
   "cell_type": "markdown",
   "metadata": {},
   "source": [
    "### 예측 결과 저장"
   ]
  },
  {
   "cell_type": "code",
   "execution_count": 66,
   "metadata": {},
   "outputs": [
    {
     "name": "stdout",
     "output_type": "stream",
     "text": [
      "mnist_cnn__result.json 저장완료\n"
     ]
    }
   ],
   "source": [
    "# print(result)\n",
    "save_to_json_file(result, model_name+'__result.json')"
   ]
  },
  {
   "cell_type": "code",
   "execution_count": null,
   "metadata": {},
   "outputs": [],
   "source": []
  }
 ],
 "metadata": {
  "kernelspec": {
   "display_name": "Python 3",
   "language": "python",
   "name": "python3"
  },
  "language_info": {
   "codemirror_mode": {
    "name": "ipython",
    "version": 3
   },
   "file_extension": ".py",
   "mimetype": "text/x-python",
   "name": "python",
   "nbconvert_exporter": "python",
   "pygments_lexer": "ipython3",
   "version": "3.6.5"
  }
 },
 "nbformat": 4,
 "nbformat_minor": 2
}
