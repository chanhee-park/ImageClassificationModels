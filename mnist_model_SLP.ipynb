{
 "cells": [
  {
   "cell_type": "markdown",
   "metadata": {},
   "source": [
    "## 싱글 레이어 퍼셉트론 / MNIST"
   ]
  },
  {
   "cell_type": "markdown",
   "metadata": {},
   "source": [
    "### 사용 패키지"
   ]
  },
  {
   "cell_type": "code",
   "execution_count": 2,
   "metadata": {},
   "outputs": [
    {
     "name": "stderr",
     "output_type": "stream",
     "text": [
      "Using TensorFlow backend.\n"
     ]
    }
   ],
   "source": [
    "import random\n",
    "import time\n",
    "\n",
    "import numpy as np\n",
    "\n",
    "from keras.utils import np_utils\n",
    "from keras.datasets import mnist\n",
    "from keras.models import Sequential\n",
    "from keras.layers import Dense, Activation\n",
    "from keras.utils import to_categorical\n",
    "\n",
    "import json"
   ]
  },
  {
   "cell_type": "code",
   "execution_count": 12,
   "metadata": {},
   "outputs": [],
   "source": [
    "# Constants & Functions\n",
    "model_name = 'mnist_slp'\n",
    "\n",
    "def get_hot_idx(arr):\n",
    "    return arr.index(max(arr))\n",
    "\n",
    "def save_to_json_file(data, filename):\n",
    "    with open(filename, 'w') as outfile:\n",
    "        json.dump(data, outfile)\n",
    "    print(filename + ' 저장완료')\n",
    "    \n",
    "def get_round_array(array, decimal):\n",
    "    return [round(e, decimal) for e in array]\n",
    "\n",
    "current_milli_time = lambda: int(round(time.time() * 1000))"
   ]
  },
  {
   "cell_type": "markdown",
   "metadata": {},
   "source": [
    "### 데이터"
   ]
  },
  {
   "cell_type": "code",
   "execution_count": 4,
   "metadata": {},
   "outputs": [],
   "source": [
    "# 데이터 관련 파라메터 정의\n",
    "image_width = 28\n",
    "image_height = 28\n",
    "num_of_feature = image_width * image_height\n",
    "\n",
    "num_of_class = 10\n",
    "num_of_trainset = 60000\n",
    "num_of_testset = 10000\n",
    "\n",
    "(X_train, Y_train), (X_test, Y_test) = mnist.load_data()\n",
    "X_train = X_train.reshape(num_of_trainset, num_of_feature).astype('float32') / 255.0\n",
    "X_test = X_test.reshape(num_of_testset, num_of_feature).astype('float32') / 255.0\n",
    "Y_train = np_utils.to_categorical(Y_train)\n",
    "Y_test = np_utils.to_categorical(Y_test)"
   ]
  },
  {
   "cell_type": "markdown",
   "metadata": {},
   "source": [
    "### 모델구축"
   ]
  },
  {
   "cell_type": "code",
   "execution_count": 5,
   "metadata": {},
   "outputs": [],
   "source": [
    "# 모델 구축 \n",
    "model = Sequential()\n",
    "model.add(Dense(units=64, input_dim=28*28, activation='relu'))\n",
    "model.add(Dense(units=10, activation='softmax'))\n",
    "model.compile(loss='categorical_crossentropy', optimizer='sgd', metrics=['accuracy'])"
   ]
  },
  {
   "cell_type": "code",
   "execution_count": 6,
   "metadata": {},
   "outputs": [
    {
     "data": {
      "image/svg+xml": [
       "<svg height=\"207pt\" viewBox=\"0.00 0.00 251.57 207.00\" width=\"252pt\" xmlns=\"http://www.w3.org/2000/svg\" xmlns:xlink=\"http://www.w3.org/1999/xlink\">\n",
       "<g class=\"graph\" id=\"graph0\" transform=\"scale(1 1) rotate(0) translate(4 203)\">\n",
       "<title>G</title>\n",
       "<polygon fill=\"#ffffff\" points=\"-4,4 -4,-203 247.5693,-203 247.5693,4 -4,4\" stroke=\"transparent\"/>\n",
       "<!-- 5103997448 -->\n",
       "<g class=\"node\" id=\"node1\">\n",
       "<title>5103997448</title>\n",
       "<polygon fill=\"none\" points=\"0,-81.5 0,-125.5 243.5693,-125.5 243.5693,-81.5 0,-81.5\" stroke=\"#000000\"/>\n",
       "<text fill=\"#000000\" font-family=\"Times,serif\" font-size=\"14.00\" text-anchor=\"middle\" x=\"52.126\" y=\"-99.3\">dense_1: Dense</text>\n",
       "<polyline fill=\"none\" points=\"104.252,-81.5 104.252,-125.5 \" stroke=\"#000000\"/>\n",
       "<text fill=\"#000000\" font-family=\"Times,serif\" font-size=\"14.00\" text-anchor=\"middle\" x=\"132.0864\" y=\"-110.3\">input:</text>\n",
       "<polyline fill=\"none\" points=\"104.252,-103.5 159.9209,-103.5 \" stroke=\"#000000\"/>\n",
       "<text fill=\"#000000\" font-family=\"Times,serif\" font-size=\"14.00\" text-anchor=\"middle\" x=\"132.0864\" y=\"-88.3\">output:</text>\n",
       "<polyline fill=\"none\" points=\"159.9209,-81.5 159.9209,-125.5 \" stroke=\"#000000\"/>\n",
       "<text fill=\"#000000\" font-family=\"Times,serif\" font-size=\"14.00\" text-anchor=\"middle\" x=\"201.7451\" y=\"-110.3\">(None, 784)</text>\n",
       "<polyline fill=\"none\" points=\"159.9209,-103.5 243.5693,-103.5 \" stroke=\"#000000\"/>\n",
       "<text fill=\"#000000\" font-family=\"Times,serif\" font-size=\"14.00\" text-anchor=\"middle\" x=\"201.7451\" y=\"-88.3\">(None, 64)</text>\n",
       "</g>\n",
       "<!-- 5103999296 -->\n",
       "<g class=\"node\" id=\"node2\">\n",
       "<title>5103999296</title>\n",
       "<polygon fill=\"none\" points=\"3.5,-.5 3.5,-44.5 240.0693,-44.5 240.0693,-.5 3.5,-.5\" stroke=\"#000000\"/>\n",
       "<text fill=\"#000000\" font-family=\"Times,serif\" font-size=\"14.00\" text-anchor=\"middle\" x=\"55.626\" y=\"-18.3\">dense_2: Dense</text>\n",
       "<polyline fill=\"none\" points=\"107.752,-.5 107.752,-44.5 \" stroke=\"#000000\"/>\n",
       "<text fill=\"#000000\" font-family=\"Times,serif\" font-size=\"14.00\" text-anchor=\"middle\" x=\"135.5864\" y=\"-29.3\">input:</text>\n",
       "<polyline fill=\"none\" points=\"107.752,-22.5 163.4209,-22.5 \" stroke=\"#000000\"/>\n",
       "<text fill=\"#000000\" font-family=\"Times,serif\" font-size=\"14.00\" text-anchor=\"middle\" x=\"135.5864\" y=\"-7.3\">output:</text>\n",
       "<polyline fill=\"none\" points=\"163.4209,-.5 163.4209,-44.5 \" stroke=\"#000000\"/>\n",
       "<text fill=\"#000000\" font-family=\"Times,serif\" font-size=\"14.00\" text-anchor=\"middle\" x=\"201.7451\" y=\"-29.3\">(None, 64)</text>\n",
       "<polyline fill=\"none\" points=\"163.4209,-22.5 240.0693,-22.5 \" stroke=\"#000000\"/>\n",
       "<text fill=\"#000000\" font-family=\"Times,serif\" font-size=\"14.00\" text-anchor=\"middle\" x=\"201.7451\" y=\"-7.3\">(None, 10)</text>\n",
       "</g>\n",
       "<!-- 5103997448&#45;&gt;5103999296 -->\n",
       "<g class=\"edge\" id=\"edge2\">\n",
       "<title>5103997448-&gt;5103999296</title>\n",
       "<path d=\"M121.7847,-81.3664C121.7847,-73.1516 121.7847,-63.6579 121.7847,-54.7252\" fill=\"none\" stroke=\"#000000\"/>\n",
       "<polygon fill=\"#000000\" points=\"125.2848,-54.6068 121.7847,-44.6068 118.2848,-54.6069 125.2848,-54.6068\" stroke=\"#000000\"/>\n",
       "</g>\n",
       "<!-- 5103999632 -->\n",
       "<g class=\"node\" id=\"node3\">\n",
       "<title>5103999632</title>\n",
       "<polygon fill=\"none\" points=\"78.7847,-162.5 78.7847,-198.5 164.7847,-198.5 164.7847,-162.5 78.7847,-162.5\" stroke=\"#000000\"/>\n",
       "<text fill=\"#000000\" font-family=\"Times,serif\" font-size=\"14.00\" text-anchor=\"middle\" x=\"121.7847\" y=\"-176.3\">5103999632</text>\n",
       "</g>\n",
       "<!-- 5103999632&#45;&gt;5103997448 -->\n",
       "<g class=\"edge\" id=\"edge1\">\n",
       "<title>5103999632-&gt;5103997448</title>\n",
       "<path d=\"M121.7847,-162.2521C121.7847,-154.3888 121.7847,-144.9498 121.7847,-135.9612\" fill=\"none\" stroke=\"#000000\"/>\n",
       "<polygon fill=\"#000000\" points=\"125.2848,-135.7376 121.7847,-125.7377 118.2848,-135.7377 125.2848,-135.7376\" stroke=\"#000000\"/>\n",
       "</g>\n",
       "</g>\n",
       "</svg>"
      ],
      "text/plain": [
       "<IPython.core.display.SVG object>"
      ]
     },
     "execution_count": 6,
     "metadata": {},
     "output_type": "execute_result"
    }
   ],
   "source": [
    "# 구축된 모델 구조 시각화 \n",
    "from IPython.display import SVG\n",
    "from keras.utils.vis_utils import model_to_dot\n",
    "\n",
    "%matplotlib inline\n",
    "SVG(model_to_dot(model, show_shapes=True).create(prog='dot', format='svg'))"
   ]
  },
  {
   "cell_type": "markdown",
   "metadata": {},
   "source": [
    "### 모델 학습"
   ]
  },
  {
   "cell_type": "code",
   "execution_count": 7,
   "metadata": {},
   "outputs": [
    {
     "name": "stdout",
     "output_type": "stream",
     "text": [
      "Epoch 1/3\n",
      "60000/60000 [==============================] - 4s 63us/step - loss: 0.6692 - acc: 0.8332\n",
      "Epoch 2/3\n",
      "60000/60000 [==============================] - 3s 52us/step - loss: 0.3448 - acc: 0.9035\n",
      "Epoch 3/3\n",
      "60000/60000 [==============================] - 3s 51us/step - loss: 0.2963 - acc: 0.9163\n"
     ]
    },
    {
     "data": {
      "text/plain": [
       "<keras.callbacks.History at 0x13f888da0>"
      ]
     },
     "execution_count": 7,
     "metadata": {},
     "output_type": "execute_result"
    }
   ],
   "source": [
    "# 모델 피팅\n",
    "model.fit(X_train, Y_train, epochs=3, batch_size=32)"
   ]
  },
  {
   "cell_type": "markdown",
   "metadata": {},
   "source": [
    "### 성능 확인"
   ]
  },
  {
   "cell_type": "code",
   "execution_count": 8,
   "metadata": {},
   "outputs": [
    {
     "name": "stdout",
     "output_type": "stream",
     "text": [
      "10000/10000 [==============================] - 0s 23us/step\n",
      "loss_and_metrics : [0.2691996405482292, 0.925]\n"
     ]
    }
   ],
   "source": [
    "loss_and_metrics = model.evaluate(X_test, Y_test, batch_size=32)\n",
    "\n",
    "print('loss_and_metrics : ' + str(loss_and_metrics))"
   ]
  },
  {
   "cell_type": "markdown",
   "metadata": {},
   "source": [
    "### 내 데이터로 테스트"
   ]
  },
  {
   "cell_type": "code",
   "execution_count": 23,
   "metadata": {
    "scrolled": false
   },
   "outputs": [
    {
     "name": "stdout",
     "output_type": "stream",
     "text": [
      "내 데이터로 테스트\n",
      "데이터 로드\n",
      "각 인스턴스 예측\n",
      "Single Layer Perceptron\n",
      "4008\n",
      "913.5\n",
      "[0.968, 0.945, 0.909, 0.912, 0.919, 0.806, 0.94, 0.904, 0.913, 0.919]\n",
      "[0.926, 0.964, 0.909, 0.894, 0.914, 0.95, 0.932, 0.937, 0.845, 0.878]\n"
     ]
    }
   ],
   "source": [
    "print(\"내 데이터로 테스트\")\n",
    "\n",
    "# 이미지 데이터 로드 (pixel 값 배열)\n",
    "print(\"데이터 로드\")\n",
    "with open('./data/mnist_testing/images_not_normal.json') as data_file:\n",
    "    data = json.load(data_file)\n",
    "images = np.zeros((len(data), 784))\n",
    "for i in range(len(data)):\n",
    "    images[i] = data[i]\n",
    "\n",
    "# 정답 데이터 로드 \n",
    "with open('./data/mnist_testing/correctValues.json') as data_file:\n",
    "    data = json.load(data_file)\n",
    "correct_vals = np.zeros((len(data), 10))\n",
    "for i in range(len(data)):\n",
    "    correct_vals[i] = data[i]\n",
    "\n",
    "# 결과를 저장할 객체 생성\n",
    "result = {\n",
    "    'model_name' : 'Single Layer Perceptron',\n",
    "    \"short_name\": \"SLP\",\n",
    "    'performance' : {},\n",
    "    'predict' : []\n",
    "}\n",
    "\n",
    "# 각 인스턴스 예측\n",
    "print(\"각 인스턴스 예측\")\n",
    "cnt_correct = np.zeros(10)\n",
    "cnt_real = np.zeros(10)\n",
    "cnt_pred = np.zeros(10)\n",
    "\n",
    "# 시간 재기 \n",
    "time_start = current_milli_time()\n",
    "for i in range(len(images)):\n",
    "    model.predict_proba(instance)[0].tolist()\n",
    "time_required = current_milli_time() - time_start\n",
    "\n",
    "for i in range(len(images)):\n",
    "    instance = images[i:i+1]\n",
    "    real = correct_vals[i].tolist()\n",
    "    pred_proba = model.predict_proba(instance)[0].tolist()\n",
    "    real_num = get_hot_idx(real)\n",
    "    pred_num = get_hot_idx(pred_proba)\n",
    "    \n",
    "    cnt_real[real_num] += 1\n",
    "    cnt_pred[pred_num] += 1\n",
    "    if real_num is pred_num : \n",
    "        cnt_correct[real_num] += 1\n",
    "        \n",
    "    result['predict'].append({\n",
    "        'real': real_num,\n",
    "        'pred': pred_num,\n",
    "        'pred_proba': get_round_array(pred_proba, 2)\n",
    "    })\n",
    "\n",
    "result['performance']['required_time'] = time_required\n",
    "result['performance']['accuracy'] = np.average(cnt_correct)\n",
    "result['performance']['recall'] = (cnt_correct / cnt_real).tolist()\n",
    "result['performance']['precision'] = get_round_array((cnt_correct / cnt_pred).tolist(), 3)\n",
    "\n",
    "print(result['model_name'])\n",
    "print(result['performance']['required_time'])\n",
    "print(result['performance']['accuracy'])\n",
    "print(result['performance']['recall'])\n",
    "print(result['performance']['precision'])"
   ]
  },
  {
   "cell_type": "markdown",
   "metadata": {},
   "source": [
    "### 모델 저장"
   ]
  },
  {
   "cell_type": "code",
   "execution_count": 21,
   "metadata": {},
   "outputs": [],
   "source": [
    "from keras.models import load_model\n",
    "model.save(model_name+'.h5')"
   ]
  },
  {
   "cell_type": "markdown",
   "metadata": {},
   "source": [
    "### 예측 결과 저장"
   ]
  },
  {
   "cell_type": "code",
   "execution_count": 22,
   "metadata": {},
   "outputs": [
    {
     "name": "stdout",
     "output_type": "stream",
     "text": [
      "mnist_nn_slp__result.json 저장완료\n"
     ]
    }
   ],
   "source": [
    "# print(result)\n",
    "save_to_json_file(result, model_name+'__result.json')"
   ]
  },
  {
   "cell_type": "code",
   "execution_count": 27,
   "metadata": {},
   "outputs": [
    {
     "name": "stdout",
     "output_type": "stream",
     "text": [
      "3600\n"
     ]
    }
   ],
   "source": [
    "# 시간 재기 \n",
    "time_start = current_milli_time()\n",
    "for i in range(len(images)):\n",
    "    model.predict_proba(instance)[0].tolist()\n",
    "time_required = current_milli_time() - time_start\n",
    "print(time_required)"
   ]
  },
  {
   "cell_type": "code",
   "execution_count": null,
   "metadata": {},
   "outputs": [],
   "source": []
  }
 ],
 "metadata": {
  "kernelspec": {
   "display_name": "Python 3",
   "language": "python",
   "name": "python3"
  },
  "language_info": {
   "codemirror_mode": {
    "name": "ipython",
    "version": 3
   },
   "file_extension": ".py",
   "mimetype": "text/x-python",
   "name": "python",
   "nbconvert_exporter": "python",
   "pygments_lexer": "ipython3",
   "version": "3.6.5"
  }
 },
 "nbformat": 4,
 "nbformat_minor": 2
}
